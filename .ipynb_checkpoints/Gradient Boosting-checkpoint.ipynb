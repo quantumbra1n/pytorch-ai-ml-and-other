{
 "cells": [
  {
   "cell_type": "code",
   "execution_count": 10,
   "id": "c97d0ca6",
   "metadata": {},
   "outputs": [
    {
     "data": {
      "text/plain": [
       "array([[-4.        , -1.33333333],\n",
       "       [ 2.        ,  3.33333333]])"
      ]
     },
     "execution_count": 10,
     "metadata": {},
     "output_type": "execute_result"
    }
   ],
   "source": [
    "# 1 часть (решение задания)\n",
    "\n",
    "import numpy as np\n",
    "\n",
    "X = np.array([[1, 2], [4, 5]])\n",
    "\n",
    "answer = X - (10 * 1/(X + 1))\n",
    "answer"
   ]
  },
  {
   "cell_type": "code",
   "execution_count": 2,
   "id": "2602d1dd",
   "metadata": {},
   "outputs": [
    {
     "name": "stdout",
     "output_type": "stream",
     "text": [
      "tensor([[ 20.,  40.,  60.,  80.],\n",
      "        [100., 120., 140., 160.],\n",
      "        [180., 200., 220., 240.]]) <- gradient\n"
     ]
    }
   ],
   "source": [
    "# 2 часть\n",
    "\n",
    "import torch\n",
    "\n",
    "x = torch.tensor(\n",
    "    [[1., 2., 3., 4.],\n",
    "     [5., 6., 7., 8.],\n",
    "     [9., 10., 11., 12.]], requires_grad=True)\n",
    "#######\n",
    "#device = torch.device('cuda:0' \n",
    "#                      if torch.cuda.is_available() \n",
    "#                      else 'cpu')\n",
    "#x = x.to(device)\n",
    "#######\n",
    "\n",
    "function = 10 * (x ** 2).sum()\n",
    "\n",
    "function.backward()\n",
    "\n",
    "print(x.grad, '<- gradient') # результат градиента в атрибуте .grad"
   ]
  },
  {
   "cell_type": "code",
   "execution_count": 2,
   "id": "4dcf3157",
   "metadata": {},
   "outputs": [
    {
     "name": "stdout",
     "output_type": "stream",
     "text": [
      "tensor([[0.0201, 0.0109],\n",
      "        [0.0449, 0.0351]])\n"
     ]
    }
   ],
   "source": [
    "# Задание 2 чатсть\n",
    "\n",
    "import torch\n",
    "\n",
    "w = torch.tensor([[5.,10.],[1.,2.]], requires_grad=True) # requires_grad - тензор не константа, а переменная\n",
    "\n",
    "function =  torch.log(torch.log(w + 7)).prod()# prod() это умножение \n",
    "function.backward()\n",
    "\n",
    "print(w.grad) # Код для самопроверки"
   ]
  },
  {
   "cell_type": "code",
   "execution_count": 1,
   "id": "495c92fb",
   "metadata": {},
   "outputs": [
    {
     "data": {
      "text/plain": [
       "tensor([[0., 0., 0., 0.],\n",
       "        [0., 0., 0., 0.],\n",
       "        [0., 0., 0., 0.]])"
      ]
     },
     "execution_count": 1,
     "metadata": {},
     "output_type": "execute_result"
    }
   ],
   "source": [
    "import torch\n",
    "\n",
    "x = torch.tensor(\n",
    "    [[1., 2., 3., 4.],\n",
    "     [5., 6., 7., 8.],\n",
    "     [9., 10., 11., 12.]], requires_grad=True)\n",
    "#######\n",
    "#device = torch.device('cuda:0' \n",
    "#                      if torch.cuda.is_available() \n",
    "#                      else 'cpu')\n",
    "#x = x.to(device)\n",
    "#######\n",
    "\n",
    "function = 10 * (x ** 2).sum()\n",
    "\n",
    "function.backward() # порядок вычисления\n",
    "\n",
    "x.data = 0.001 * x.grad # .data, потому что Реквайрс Град - Фолз\n",
    "\n",
    "x.grad.zero_() # обнуляем градиент, чтобы не суммировался"
   ]
  },
  {
   "cell_type": "code",
   "execution_count": 2,
   "id": "8b47ccb6",
   "metadata": {},
   "outputs": [
    {
     "name": "stdout",
     "output_type": "stream",
     "text": [
      "tensor([[4.9900, 9.9948],\n",
      "        [0.9775, 1.9825]], requires_grad=True)\n"
     ]
    }
   ],
   "source": [
    "# Задание 2 части\n",
    "import torch\n",
    "\n",
    "w = torch.tensor([[5., 10.], [1., 2.]], requires_grad=True)\n",
    "alpha = 0.001\n",
    "\n",
    "for _ in range(500):\n",
    "    # critical: calculate the function inside the loop\n",
    "    function = (w + 7).log().log().prod()\n",
    "    function.backward()\n",
    "    w.data -= alpha * w.grad # put code here\n",
    "    w.grad.zero_()\n",
    "    # something is missing\n",
    "\n",
    "print(w) # Код для самопроверки, не забудьте закомментировать перед"
   ]
  },
  {
   "cell_type": "code",
   "execution_count": 3,
   "id": "6ef63509",
   "metadata": {},
   "outputs": [],
   "source": [
    "# Семинар 2\n",
    "import torch\n",
    "\n",
    "x = torch.tensor([8., 8.], requires_grad=True)\n",
    "\n",
    "def function_parabola(variable):\n",
    "    return 10 * (variable ** 2).sum()\n",
    "\n",
    "def make_gradient_step(function, variable):\n",
    "    function_result = function(variable)\n",
    "    function_result.backward()\n",
    "    variable.data = 0.001 * variable.grad # градиентый шаг\n",
    "    variable.grad.zero_()\n",
    "    \n",
    "for i in range(500):\n",
    "    make_gradient_step(function_parabola, x)"
   ]
  },
  {
   "cell_type": "code",
   "execution_count": 5,
   "id": "a52d44f3",
   "metadata": {},
   "outputs": [],
   "source": [
    "import torch\n",
    "\n",
    "x = torch.tensor([8., 8.], requires_grad=True)\n",
    "\n",
    "optimizer = torch.optim.SGD([x], lr=0.001)\n",
    "\n",
    "def function_parabola(variable):\n",
    "    return 10 * (variable ** 2).sum()\n",
    "\n",
    "def make_gradient_step(function, variable):\n",
    "    function_result = function(variable)\n",
    "    function_result.backward()\n",
    "    optimizer.step()\n",
    "    \n",
    "    optimizer.zero_grad()\n",
    "    \n",
    "for i in range(500):\n",
    "    make_gradient_step(function_skewed, x)"
   ]
  },
  {
   "cell_type": "code",
   "execution_count": 6,
   "id": "41617ddd",
   "metadata": {},
   "outputs": [
    {
     "name": "stdout",
     "output_type": "stream",
     "text": [
      "tensor([[4.9900, 9.9948],\n",
      "        [0.9775, 1.9825]], requires_grad=True)\n"
     ]
    }
   ],
   "source": [
    "# Задание 2\n",
    "import torch\n",
    "\n",
    "w = torch.tensor([[5., 10.], [1., 2.]], requires_grad=True)\n",
    "alpha = 0.001\n",
    "optimizer =  torch.optim.SGD([w], lr=alpha)# put our code here. Do not forget [] inside SGD constructor !!!!\n",
    "\n",
    "for _ in range(500):\n",
    "    # it's critical to calculate function inside the loop:\n",
    "    function = (w + 7).log().log().prod()\n",
    "    function.backward()\n",
    "    optimizer.step()\n",
    "    optimizer.zero_grad()\n",
    "    # something is missing here!\n",
    "\n",
    "print(w) # Код для самопроверки"
   ]
  },
  {
   "cell_type": "code",
   "execution_count": null,
   "id": "387ea3a1",
   "metadata": {},
   "outputs": [],
   "source": []
  },
  {
   "cell_type": "code",
   "execution_count": null,
   "id": "e623728b",
   "metadata": {},
   "outputs": [],
   "source": []
  }
 ],
 "metadata": {
  "kernelspec": {
   "display_name": "Python 3",
   "language": "python",
   "name": "python3"
  },
  "language_info": {
   "codemirror_mode": {
    "name": "ipython",
    "version": 3
   },
   "file_extension": ".py",
   "mimetype": "text/x-python",
   "name": "python",
   "nbconvert_exporter": "python",
   "pygments_lexer": "ipython3",
   "version": "3.8.8"
  }
 },
 "nbformat": 4,
 "nbformat_minor": 5
}

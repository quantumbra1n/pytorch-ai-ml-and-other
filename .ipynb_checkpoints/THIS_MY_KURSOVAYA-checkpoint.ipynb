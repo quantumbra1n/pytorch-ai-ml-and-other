{
 "cells": [
  {
   "cell_type": "code",
   "execution_count": 136,
   "id": "c211e025",
   "metadata": {},
   "outputs": [],
   "source": [
    "# Напишем интерфейс случайной величины с тремя методами: плотность, функция распределения и квантиль уровня alpha.\n",
    "from abc import ABC, abstractmethod\n",
    "\n",
    "\n",
    "class RandomVariable(ABC):\n",
    "    @abstractmethod\n",
    "    def pdf(self, x):\n",
    "        pass\n",
    "\n",
    "    @abstractmethod\n",
    "    def cdf(self, x):\n",
    "        pass\n",
    "\n",
    "    @abstractmethod\n",
    "    def quantile(self, alpha):\n",
    "        pass"
   ]
  },
  {
   "cell_type": "code",
   "execution_count": 137,
   "id": "8a818dd2",
   "metadata": {},
   "outputs": [],
   "source": [
    "# Создадим класс - нормальная случайная величина.\n",
    "import math\n",
    "\n",
    "class NormalRandomVariable(RandomVariable):\n",
    "    def __init__(self, location=0, scale=1) -> None:\n",
    "        super().__init__()\n",
    "        self.location = location\n",
    "        self.scale = scale\n",
    "\n",
    "    def pdf(self, x):\n",
    "        z = (x - self.location) / self.scale\n",
    "        return math.exp(-0.5 * z * z) / (math.sqrt(2 * math.pi) * self.scale)\n",
    "  \n",
    "    def cdf(self, x):\n",
    "        z = (x - self.location) / self.scale;\n",
    "        if z <= 0:\n",
    "            return 0.852 * math.exp(-math.pow((-z + 1.5774) / 2.0637, 2.34))\n",
    "        return 1 - 0.852 * math.exp(-math.pow((z + 1.5774) / 2.0637, 2.34))\n",
    "\n",
    "    def quantile(self, alpha):\n",
    "        return self.location + 4.91 * self.scale * (math.pow(alpha, 0.14) - math.pow(1 - alpha, 0.14))"
   ]
  },
  {
   "cell_type": "code",
   "execution_count": 138,
   "id": "2b8d682c",
   "metadata": {},
   "outputs": [],
   "source": [
    "# И еще класс - непараметрическая случайная величина, \n",
    "#у которой pdf - гребенка (она не будет использоваться), cdf - э.ф.р, quantile - выборочный квантиль.\n",
    "class NonParametricRandomVariable(RandomVariable):\n",
    "    def __init__(self, source_sample) -> None:\n",
    "        super().__init__()\n",
    "        self.source_sample = sorted(source_sample)\n",
    "\n",
    "    def pdf(self, x):\n",
    "        if x in self.source_sample:\n",
    "            return float('inf')\n",
    "        return 0\n",
    "\n",
    "    @staticmethod\n",
    "    def heaviside_function(x):\n",
    "        if x > 0:\n",
    "            return 1\n",
    "        else:\n",
    "            return 0\n",
    "  \n",
    "    def cdf(self, x):\n",
    "        return np.mean(np.vectorize(self.heaviside_function)(x - self.source_sample))\n",
    "  \n",
    "    def quantile(self, alpha):\n",
    "        index = int(alpha * len(self.source_sample))\n",
    "        return self.source_sample[index]"
   ]
  },
  {
   "cell_type": "code",
   "execution_count": 139,
   "id": "3effa59f",
   "metadata": {},
   "outputs": [],
   "source": [
    "# Напишем интерфейс для генераторов случайных величин.\n",
    "class RandomNumberGenerator(ABC):\n",
    "    def __init__(self, random_variable: RandomVariable):\n",
    "        self.random_variable = random_variable\n",
    "\n",
    "    @abstractmethod\n",
    "    def get(self, N):\n",
    "        pass"
   ]
  },
  {
   "cell_type": "code",
   "execution_count": 140,
   "id": "e6a7d2c7",
   "metadata": {},
   "outputs": [],
   "source": [
    "# Реализуем конкретный класс генератора случайных величин на базе квантилей.\n",
    "import numpy as np\n",
    "\n",
    "\n",
    "class SimpleRandomNumberGenerator(RandomNumberGenerator):\n",
    "    def __init__(self, random_variable: RandomVariable):\n",
    "        super().__init__(random_variable)\n",
    "    \n",
    "    def get(self, N):\n",
    "        us = np.random.uniform(0, 1, N)\n",
    "        return np.vectorize(self.random_variable.quantile)(us)"
   ]
  },
  {
   "cell_type": "code",
   "execution_count": 170,
   "id": "bcb3c0e9",
   "metadata": {},
   "outputs": [],
   "source": [
    "# Определим параметр нормального распределения и объем выборки.\n",
    "# http://www.machinelearning.ru/wiki/index.php?title=%D0%9D%D0%BE%D1%80%D0%BC%D0%B0%D0%BB%D1%8C%D0%BD%D0%BE%D0%B5_%D1%80%D0%B0%D1%81%D0%BF%D1%80%D0%B5%D0%B4%D0%B5%D0%BB%D0%B5%D0%BD%D0%B8%D0%B5\n",
    "location = 0 #@param {type:\"number\"} коэффициент сдвига\n",
    "scale = 1 #@param {type:\"number\"} коэффициент масштаба\n",
    "\n",
    "N = 50  #@param {type:\"integer\"}"
   ]
  },
  {
   "cell_type": "code",
   "execution_count": 171,
   "id": "d80d41e0",
   "metadata": {},
   "outputs": [],
   "source": [
    "# Создадим нормальную случайную величину и генератор псевдослучайных величин, \n",
    "#подчиняющихся нормальному распределению. Они будут использованы для генерации исходной выборки.\n",
    "rv = NormalRandomVariable(location, scale)\n",
    "generator = SimpleRandomNumberGenerator(rv)"
   ]
  },
  {
   "cell_type": "code",
   "execution_count": 172,
   "id": "67aefa2a",
   "metadata": {
    "scrolled": true
   },
   "outputs": [
    {
     "data": {
      "text/plain": [
       "array([ 0.53442725,  0.74911993,  0.16873072, -0.88388783, -1.39771244,\n",
       "       -0.75413573, -0.04527654,  1.2343347 , -0.40561586, -0.56576953,\n",
       "       -0.89057727, -1.69454013,  0.59955313,  0.20619961,  0.87917981,\n",
       "       -1.42593075,  0.74040964,  0.33157824, -1.08429472, -0.85369594,\n",
       "       -0.46344416, -0.01975593, -0.07163708, -1.53289728,  0.9387083 ,\n",
       "        1.75378855,  0.66384324, -1.66320062, -0.37222659,  0.67892591,\n",
       "        0.01578195, -0.6182414 , -1.40302403,  0.52841334,  1.0511025 ,\n",
       "       -0.39664012, -0.80975202, -0.81194117,  0.20828358, -0.68430068,\n",
       "        0.02057677,  0.25049545,  0.24895251,  0.21376405,  0.11488345,\n",
       "        0.47150523,  2.49502503,  0.3987677 , -0.70690017,  1.43317996])"
      ]
     },
     "execution_count": 172,
     "metadata": {},
     "output_type": "execute_result"
    }
   ],
   "source": [
    "# Сгенерируем исходную выборку.\n",
    "sample = generator.get(N)\n",
    "sample"
   ]
  },
  {
   "cell_type": "code",
   "execution_count": 173,
   "id": "5297b506",
   "metadata": {},
   "outputs": [],
   "source": [
    "# Создадим непараметрическую случайную величину и генератор на базе нее. Он будет использован для генерации ревыборок.\n",
    "rv1 = NonParametricRandomVariable(sample)\n",
    "generator1 = SimpleRandomNumberGenerator(rv1)"
   ]
  },
  {
   "cell_type": "code",
   "execution_count": 174,
   "id": "c9f9d77a",
   "metadata": {},
   "outputs": [],
   "source": [
    "# Создадим интерфейс наших оценок и реализуем их в конкретных классах.\n",
    "import numpy as np\n",
    "\n",
    "class Estimation(ABC):\n",
    "    @abstractmethod\n",
    "    def estimate(sample):\n",
    "        pass\n",
    "\n",
    "\n",
    "import statistics\n",
    "\n",
    "\n",
    "class Mean(Estimation):\n",
    "    def estimate(self, sample):\n",
    "        return statistics.mean(sample)\n",
    "\n",
    "class Var(Estimation):\n",
    "    def estimate(self, sample):\n",
    "        return statistics.variance(sample)\n",
    "#========================================================================================\n",
    "class PearsonTukey(Estimation): # Первая оценка Пирсона-Тьюки\n",
    "    def estimate(self, sample):\n",
    "        sorted_sample = np.sort(sample)\n",
    "        k_1 = int(0.95 * N)\n",
    "        k_2 = int(0.05 * N)\n",
    "        k_3 = int(0.5 * N)\n",
    "        k_4 = int(N / 2)\n",
    "        delta = sorted_sample[k_1] + sorted_sample[k_2] - 2 * sorted_sample[k_3]\n",
    "        return sorted_sample[k_4] + 0.185 * delta\n",
    "    \n",
    "class SampleMedian(Estimation):  # Вторая оценка выборочная медиана\n",
    "    def estimate(self, sample):\n",
    "        sorted_sample = np.sort(sample)\n",
    "        if (N / 2).is_integer():\n",
    "            k1 = int(N / 2)\n",
    "            k2 = int((N / 2 + 1))\n",
    "            return 0.5 * (sorted_sample[k1] + sorted_sample[k2])\n",
    "        elif ((N + 1) / 2).is_integer():\n",
    "            return sorted_sample[int((N + 1) / 2)]"
   ]
  },
  {
   "cell_type": "code",
   "execution_count": 175,
   "id": "608ff3d9",
   "metadata": {
    "scrolled": false
   },
   "outputs": [
    {
     "data": {
      "text/plain": [
       "-0.0054843398529315045"
      ]
     },
     "execution_count": 175,
     "metadata": {},
     "output_type": "execute_result"
    }
   ],
   "source": [
    "PearsonTukey().estimate(sample)"
   ]
  },
  {
   "cell_type": "code",
   "execution_count": 176,
   "id": "4af303a0",
   "metadata": {
    "scrolled": true
   },
   "outputs": [
    {
     "data": {
      "text/plain": [
       "0.06773010820598467"
      ]
     },
     "execution_count": 176,
     "metadata": {},
     "output_type": "execute_result"
    }
   ],
   "source": [
    "SampleMedian().estimate(sample)"
   ]
  },
  {
   "cell_type": "code",
   "execution_count": 177,
   "id": "d91771db",
   "metadata": {},
   "outputs": [
    {
     "data": {
      "text/plain": [
       "-0.05251734944514652"
      ]
     },
     "execution_count": 177,
     "metadata": {},
     "output_type": "execute_result"
    }
   ],
   "source": [
    "# Выборочное среднее\n",
    "Mean().estimate(sample)"
   ]
  },
  {
   "cell_type": "code",
   "execution_count": 178,
   "id": "c5ffe351",
   "metadata": {},
   "outputs": [
    {
     "data": {
      "text/plain": [
       "0.8343515823982594"
      ]
     },
     "execution_count": 178,
     "metadata": {},
     "output_type": "execute_result"
    }
   ],
   "source": [
    "# Дисперсия\n",
    "Var().estimate(sample)"
   ]
  },
  {
   "cell_type": "code",
   "execution_count": 179,
   "id": "a60e5dfd",
   "metadata": {},
   "outputs": [],
   "source": [
    "# ОЦЕНКИ ПОСТРОИЛИ. ДАЛЕЕ ИССЛЕДУЕМ ОЦЕНКИ"
   ]
  },
  {
   "cell_type": "code",
   "execution_count": 180,
   "id": "cc4b88c6",
   "metadata": {},
   "outputs": [],
   "source": [
    "# Основной класс, который принимает \n",
    "#генератор выборок, список оценок, количество ревыборок, \n",
    "#которые будут сгенерированы и истинное значение параметра для оценки смещения.\n",
    "\n",
    "class Modelling(ABC):\n",
    "    def __init__(self, gen: RandomNumberGenerator, estimations: list, M:int, truth_value:float):\n",
    "        self.gen = gen\n",
    "        self.estimations = estimations\n",
    "        self.M = M\n",
    "        self.truth_value = truth_value\n",
    "        \n",
    "        # Здесь будут храниться выборки оценок\n",
    "        self.estimations_sample = np.zeros((self.M, len(self.estimations)), dtype=np.float64)\n",
    "        \n",
    "    # Метод, оценивающий квадрат смещения оценок\n",
    "    def estimate_bias_sqr(self):\n",
    "        return np.array([(Mean().estimate(self.estimations_sample[:,i]) - self.truth_value) ** 2 for i in range(len(self.estimations))])\n",
    "    \n",
    "    # Метод, оценивающий дисперсию оценок\n",
    "    def estimate_var(self):\n",
    "        return np.array([Var().estimate(self.estimations_sample[:,i]) for i in range(len(self.estimations))])\n",
    "    \n",
    "    # Метод, оценивающий СКО оценок\n",
    "    def estimate_mse(self):\n",
    "        return self.estimate_bias_sqr() + self.estimate_var()\n",
    "    \n",
    "    def get_samples(self):\n",
    "        return self.estimations_sample\n",
    "    \n",
    "    def get_sample(self):\n",
    "        return self.gen.get(N)\n",
    "    \n",
    "    def run(self):\n",
    "        for i in range(self.M):\n",
    "            sample = self.get_sample()\n",
    "            self.estimations_sample[i, :] = [e.estimate(sample) for e in self.estimations]"
   ]
  },
  {
   "cell_type": "code",
   "execution_count": 181,
   "id": "05b1af84",
   "metadata": {},
   "outputs": [],
   "source": [
    "#Моделируем или бутстрепим в зависимости от генератора выборок.\n",
    "\n",
    "modelling = Modelling(generator1, [PearsonTukey(), SampleMedian()], 2 * N, location)\n",
    "modelling.run()"
   ]
  },
  {
   "cell_type": "code",
   "execution_count": 182,
   "id": "da827e43",
   "metadata": {},
   "outputs": [
    {
     "data": {
      "text/plain": [
       "array([0.02443677, 0.03607   ])"
      ]
     },
     "execution_count": 182,
     "metadata": {},
     "output_type": "execute_result"
    }
   ],
   "source": [
    "# Оценим СКО оценок\n",
    "\n",
    "mses = modelling.estimate_mse()\n",
    "mses"
   ]
  },
  {
   "cell_type": "code",
   "execution_count": 183,
   "id": "366a63b9",
   "metadata": {},
   "outputs": [
    {
     "data": {
      "text/plain": [
       "1.4760541555534215"
      ]
     },
     "execution_count": 183,
     "metadata": {},
     "output_type": "execute_result"
    }
   ],
   "source": [
    "# Смотрим во сколько раз вторая оценка хуже первой\n",
    "mses[1] / mses[0]"
   ]
  },
  {
   "cell_type": "code",
   "execution_count": 184,
   "id": "a102bc7d",
   "metadata": {},
   "outputs": [
    {
     "data": {
      "text/plain": [
       "array([0.024433  , 0.03272377])"
      ]
     },
     "execution_count": 184,
     "metadata": {},
     "output_type": "execute_result"
    }
   ],
   "source": [
    "# Дисперсия оценок\n",
    "\n",
    "var = modelling.estimate_var()\n",
    "var"
   ]
  },
  {
   "cell_type": "code",
   "execution_count": null,
   "id": "97866f3f",
   "metadata": {},
   "outputs": [],
   "source": []
  },
  {
   "cell_type": "code",
   "execution_count": 185,
   "id": "ce7a9d79",
   "metadata": {},
   "outputs": [
    {
     "data": {
      "text/plain": [
       "array([3.77644299e-06, 3.34622839e-03])"
      ]
     },
     "execution_count": 185,
     "metadata": {},
     "output_type": "execute_result"
    }
   ],
   "source": [
    "# Оценим квадрат смещения оценок\n",
    "\n",
    "bias_sqr = modelling.estimate_bias_sqr()\n",
    "bias_sqr"
   ]
  },
  {
   "cell_type": "code",
   "execution_count": null,
   "id": "fdfc7dac",
   "metadata": {},
   "outputs": [],
   "source": []
  },
  {
   "cell_type": "code",
   "execution_count": 186,
   "id": "1cc7beec",
   "metadata": {},
   "outputs": [],
   "source": [
    "# Класс для построения оценок плотностей оценок.\n",
    "\n",
    "class SmoothedRandomVariable(RandomVariable):\n",
    "    def _k(x):\n",
    "        if abs(x) <= 1:\n",
    "            return 0.75 * (1 - x * x)\n",
    "        else:\n",
    "            return 0\n",
    "    def _K(x):\n",
    "        if x < -1:\n",
    "            return 0\n",
    "        elif -1 <= x < 1:\n",
    "            return 0.5 + 0.75 * (x - x ** 3 / 3)\n",
    "        else:\n",
    "            return 1\n",
    "        \n",
    "    def __init__(self, sample, h):\n",
    "        self.sample = sample\n",
    "        self.h = h\n",
    "        \n",
    "    def pdf(self, x):\n",
    "        return np.mean([SmoothedRandomVariable._k((x - y) / self.h) for y in self.sample]) / self.h\n",
    "    \n",
    "    def cdf(self, x):\n",
    "        return np.mean([SmoothedRandomVariable._K((x - y) / self.h) for y in self.sample])\n",
    "    \n",
    "    def quantile(self, alpha):\n",
    "        raise NotImplementedError"
   ]
  },
  {
   "cell_type": "code",
   "execution_count": 187,
   "id": "74fd60f1",
   "metadata": {},
   "outputs": [],
   "source": [
    "# Зададим значение параметра размытости.\n",
    "\n",
    "bandwidth = 0.05 #@param {type:\"number\"}"
   ]
  },
  {
   "cell_type": "code",
   "execution_count": 188,
   "id": "9eb62a75",
   "metadata": {},
   "outputs": [
    {
     "data": {
      "image/png": "[encoded data removed]",
      "text/plain": [
       "<Figure size 640x480 with 1 Axes>"
      ]
     },
     "metadata": {},
     "output_type": "display_data"
    }
   ],
   "source": [
    "# Нарисуем оценки плотностей.\n",
    "\n",
    "import matplotlib.pyplot as plt\n",
    "\n",
    "samples = modelling.get_samples()\n",
    "POINTS = 100\n",
    "\n",
    "for i in range(samples.shape[1]):\n",
    "    sample = samples[:, i]\n",
    "    X_min = min(sample)\n",
    "    X_max = max(sample)\n",
    "    x = np.linspace(X_min, X_max, POINTS)\n",
    "    srv = SmoothedRandomVariable(sample, bandwidth)\n",
    "    y = np.vectorize(srv.pdf)(x)\n",
    "    if i == 0:\n",
    "        plt.plot(x, y, color='b')\n",
    "    elif i == 1:\n",
    "        plt.plot(x, y, color='y')\n",
    "plt.show()"
   ]
  },
  {
   "cell_type": "code",
   "execution_count": 339,
   "id": "22563ec3",
   "metadata": {},
   "outputs": [],
   "source": [
    "N = 50"
   ]
  },
  {
   "cell_type": "code",
   "execution_count": 340,
   "id": "85b3bc55",
   "metadata": {},
   "outputs": [],
   "source": [
    "#  Равномерное распределение (НЕ ИСПОЛЬЗУЕТСЯ)\n",
    "class UniformRandomVariable(RandomVariable):\n",
    "    def __init__(self, a=0, b=1) -> None:\n",
    "        super().__init__()\n",
    "        self.a = a  # нижняя граница области значений\n",
    "        self.b = b  # верхняя граница области значений\n",
    "\n",
    "    def pdf(self, x):  # плотность вероятности\n",
    "        if self.a <= x <= self.b:\n",
    "            return 1 / (self.b - self.a)\n",
    "        else:\n",
    "            return 0\n",
    "\n",
    "    def cdf(self, x):  # Функция распределения\n",
    "        if x <= self.a:\n",
    "            return 0\n",
    "        elif x >= self.b:\n",
    "            return 1\n",
    "        else:\n",
    "            return (x - self.a) / (self.b - self.a)\n",
    "\n",
    "    #  Моделирование СВ Х на отрезке [a, b] по формуле ниже\n",
    "    def quantile(self, alpha):  # alpha -- равномерно-распределенная СВ на [0, 1]\n",
    "        return alpha * (self.b - self.a) + self.a"
   ]
  },
  {
   "cell_type": "code",
   "execution_count": 341,
   "id": "657c2f6b",
   "metadata": {},
   "outputs": [],
   "source": [
    "# датчик псевдослучайных величин модели выбросов Тьюки\n",
    "import random\n",
    "\n",
    "class TukeyRandomNumberGenerator(RandomNumberGenerator):\n",
    "    def __init__(self, random_variable: RandomVariable, normal_variable: NormalRandomVariable, epsilon):\n",
    "        super().__init__(random_variable)\n",
    "        self.epsilon = epsilon\n",
    "        self.normal_variable = normal_variable\n",
    "\n",
    "    def get(self, N):\n",
    "        sample = []\n",
    "        us = np.random.uniform(0, 1, N)  #  U(0, 1)\n",
    "        for x in us:\n",
    "            if 0 <= x <= self.epsilon:  # если значение в промежутке [0, epsilon]\n",
    "                sample.append(self.normal_variable.quantile(random.random()))  # h\n",
    "            else:\n",
    "                sample.append(self.random_variable.quantile(random.random()))  # g\n",
    "        return sample"
   ]
  },
  {
   "cell_type": "code",
   "execution_count": 342,
   "id": "159071e9",
   "metadata": {},
   "outputs": [],
   "source": [
    "rv2 = NormalRandomVariable(0, 10)\n",
    "generator2 = TukeyRandomNumberGenerator(rv1, rv2, 10)"
   ]
  },
  {
   "cell_type": "code",
   "execution_count": 343,
   "id": "4338d122",
   "metadata": {},
   "outputs": [
    {
     "data": {
      "text/plain": [
       "[-5.963559546598734,\n",
       " 4.192196352936672,\n",
       " -4.694665484182602,\n",
       " 21.04910608269949,\n",
       " -1.3172587196900036,\n",
       " -20.018032057757658,\n",
       " 9.747844174714801,\n",
       " -13.487037658646765,\n",
       " -12.021840777890603,\n",
       " 0.13206710825782142,\n",
       " 7.028482534443406,\n",
       " 11.757549166181043,\n",
       " -0.7515402930760121,\n",
       " 2.567106528631423,\n",
       " -8.346764788845976,\n",
       " -19.13076512721734,\n",
       " -6.084945073357974,\n",
       " -0.6450238835438502,\n",
       " 4.352160986399212,\n",
       " 6.161233332039617,\n",
       " 1.6870456434202454,\n",
       " 25.98358243648886,\n",
       " -7.960736264410018,\n",
       " 12.90393243217197,\n",
       " 5.149569774673367,\n",
       " -1.4248021394813861,\n",
       " 7.136112028337622,\n",
       " -30.79235845813636,\n",
       " 19.494536006884427,\n",
       " -4.4306546701862155,\n",
       " 17.983242562818287,\n",
       " -7.081297379937471,\n",
       " -1.7891440178930644,\n",
       " -12.23439562778264,\n",
       " 6.292290565367915,\n",
       " -3.3712571039535177,\n",
       " -6.954783079021233,\n",
       " 14.305154268758749,\n",
       " 21.95956310873058,\n",
       " -4.83308376979957,\n",
       " 5.258976006403499,\n",
       " 8.21268371671369,\n",
       " -6.218094535789279,\n",
       " 25.61005690969788,\n",
       " 14.961596552446125,\n",
       " -20.960766142804726,\n",
       " 3.6399208290471767,\n",
       " 4.029085965325511,\n",
       " 4.859556292304165,\n",
       " -8.570730568408145]"
      ]
     },
     "execution_count": 343,
     "metadata": {},
     "output_type": "execute_result"
    }
   ],
   "source": [
    "sample = generator2.get(N)\n",
    "sample"
   ]
  },
  {
   "cell_type": "code",
   "execution_count": 344,
   "id": "ccba08c3",
   "metadata": {},
   "outputs": [
    {
     "data": {
      "text/plain": [
       "1.4220219997847454"
      ]
     },
     "execution_count": 344,
     "metadata": {},
     "output_type": "execute_result"
    }
   ],
   "source": [
    "PearsonTukey().estimate(sample)"
   ]
  },
  {
   "cell_type": "code",
   "execution_count": 345,
   "id": "8d9e7867",
   "metadata": {},
   "outputs": [
    {
     "data": {
      "text/plain": [
       "2.127076086025834"
      ]
     },
     "execution_count": 345,
     "metadata": {},
     "output_type": "execute_result"
    }
   ],
   "source": [
    "SampleMedian().estimate(sample)"
   ]
  },
  {
   "cell_type": "code",
   "execution_count": 346,
   "id": "448de3f2",
   "metadata": {},
   "outputs": [
    {
     "data": {
      "text/plain": [
       "1.1474222839496482"
      ]
     },
     "execution_count": 346,
     "metadata": {},
     "output_type": "execute_result"
    }
   ],
   "source": [
    "Mean().estimate(sample)"
   ]
  },
  {
   "cell_type": "code",
   "execution_count": 347,
   "id": "fee4f694",
   "metadata": {},
   "outputs": [
    {
     "data": {
      "text/plain": [
       "147.99360284229272"
      ]
     },
     "execution_count": 347,
     "metadata": {},
     "output_type": "execute_result"
    }
   ],
   "source": [
    "Var().estimate(sample)"
   ]
  },
  {
   "cell_type": "code",
   "execution_count": 348,
   "id": "e79d2244",
   "metadata": {},
   "outputs": [],
   "source": [
    "modelling1 = Modelling(generator2, [PearsonTukey(), SampleMedian()], 2 * N, location)\n",
    "modelling1.run()"
   ]
  },
  {
   "cell_type": "code",
   "execution_count": 349,
   "id": "b16b698d",
   "metadata": {},
   "outputs": [
    {
     "data": {
      "text/plain": [
       "array([2.85072168, 3.50323671])"
      ]
     },
     "execution_count": 349,
     "metadata": {},
     "output_type": "execute_result"
    }
   ],
   "source": [
    "mses1 = modelling1.estimate_mse()\n",
    "mses1"
   ]
  },
  {
   "cell_type": "code",
   "execution_count": 350,
   "id": "cecf7061",
   "metadata": {},
   "outputs": [
    {
     "data": {
      "text/plain": [
       "1.2288946785356243"
      ]
     },
     "execution_count": 350,
     "metadata": {},
     "output_type": "execute_result"
    }
   ],
   "source": [
    "mses1[1] / mses1[0]"
   ]
  },
  {
   "cell_type": "code",
   "execution_count": 351,
   "id": "d2b65d94",
   "metadata": {},
   "outputs": [
    {
     "data": {
      "text/plain": [
       "array([0.06486857, 0.32229467])"
      ]
     },
     "execution_count": 351,
     "metadata": {},
     "output_type": "execute_result"
    }
   ],
   "source": [
    "bias_sqr1 = modelling1.estimate_bias_sqr()\n",
    "bias_sqr1"
   ]
  },
  {
   "cell_type": "code",
   "execution_count": 352,
   "id": "18f22e9f",
   "metadata": {},
   "outputs": [
    {
     "data": {
      "text/plain": [
       "array([2.78585311, 3.18094203])"
      ]
     },
     "execution_count": 352,
     "metadata": {},
     "output_type": "execute_result"
    }
   ],
   "source": [
    "var1 = modelling1.estimate_var()\n",
    "var1"
   ]
  },
  {
   "cell_type": "code",
   "execution_count": 353,
   "id": "9e466a41",
   "metadata": {},
   "outputs": [],
   "source": [
    "bandwidth = 0.05"
   ]
  },
  {
   "cell_type": "code",
   "execution_count": 354,
   "id": "22730503",
   "metadata": {},
   "outputs": [
    {
     "data": {
      "image/png": "[encoded data removed]",
      "text/plain": [
       "<Figure size 640x480 with 1 Axes>"
      ]
     },
     "metadata": {},
     "output_type": "display_data"
    }
   ],
   "source": [
    "import matplotlib.pyplot as plt\n",
    "\n",
    "samples = modelling1.get_samples()\n",
    "POINTS = 100\n",
    "\n",
    "for i in range(samples.shape[1]):\n",
    "    sample = samples[:, i]\n",
    "    X_min = min(sample)\n",
    "    X_max = max(sample)\n",
    "    x = np.linspace(X_min, X_max, POINTS)\n",
    "    srv = SmoothedRandomVariable(sample, bandwidth)\n",
    "    y = np.vectorize(srv.pdf)(x)\n",
    "    if i == 0:\n",
    "        plt.plot(x, y, color='b')\n",
    "    elif i == 1:\n",
    "        plt.plot(x, y, color='y')\n",
    "plt.show()"
   ]
  },
  {
   "cell_type": "code",
   "execution_count": null,
   "id": "19274052",
   "metadata": {},
   "outputs": [],
   "source": []
  }
 ],
 "metadata": {
  "kernelspec": {
   "display_name": "Python 3 (ipykernel)",
   "language": "python",
   "name": "python3"
  },
  "language_info": {
   "codemirror_mode": {
    "name": "ipython",
    "version": 3
   },
   "file_extension": ".py",
   "mimetype": "text/x-python",
   "name": "python",
   "nbconvert_exporter": "python",
   "pygments_lexer": "ipython3",
   "version": "3.8.8"
  }
 },
 "nbformat": 4,
 "nbformat_minor": 5
}

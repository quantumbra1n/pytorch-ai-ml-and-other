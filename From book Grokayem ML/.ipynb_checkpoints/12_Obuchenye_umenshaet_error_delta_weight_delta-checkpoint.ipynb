{
 "cells": [
  {
   "cell_type": "code",
   "execution_count": 2,
   "id": "4dc869af",
   "metadata": {},
   "outputs": [
    {
     "name": "stdout",
     "output_type": "stream",
     "text": [
      "Error:0.6400000000000001 Prediction:0.0\n",
      "Error:0.3600000000000001 Prediction:0.2\n",
      "Error:0.2025 Prediction:0.35000000000000003\n",
      "Error:0.11390625000000001 Prediction:0.4625\n"
     ]
    }
   ],
   "source": [
    "weight, goal_pred, input = (0.0, 0.8, 0.5)\n",
    "\n",
    "for iteration in range(4):\n",
    "    \n",
    "    pred = input * weight #в этой строке кроется секрет\n",
    "    error = (pred - goal_pred)**2 #в этой строке кроется секрет\n",
    "    \n",
    "    delta = pred - goal_pred\n",
    "    weight_delta = delta * input\n",
    "    \n",
    "    weight = weight - weight_delta\n",
    "    print('Error:' + str(error) + ' Prediction:' + str(pred))"
   ]
  }
 ],
 "metadata": {
  "kernelspec": {
   "display_name": "Python 3",
   "language": "python",
   "name": "python3"
  },
  "language_info": {
   "codemirror_mode": {
    "name": "ipython",
    "version": 3
   },
   "file_extension": ".py",
   "mimetype": "text/x-python",
   "name": "python",
   "nbconvert_exporter": "python",
   "pygments_lexer": "ipython3",
   "version": "3.8.8"
  }
 },
 "nbformat": 4,
 "nbformat_minor": 5
}

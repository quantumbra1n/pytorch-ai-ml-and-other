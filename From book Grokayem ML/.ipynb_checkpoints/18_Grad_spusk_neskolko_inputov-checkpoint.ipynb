{
 "cells": [
  {
   "cell_type": "code",
   "execution_count": 4,
   "id": "08096054",
   "metadata": {},
   "outputs": [],
   "source": [
    "#1 ЧИСТАЯ СЕТЬ С НЕСКОЛЬКИМИ ВХОДАМИ\n",
    "def w_sum(a,b):\n",
    "    assert(len(a) == len(b))\n",
    "    output = 0\n",
    "    \n",
    "    for i in range(len(a)):\n",
    "        output += (a[i] * b[i])\n",
    "    \n",
    "    return output\n",
    "\n",
    "def neural_network(input, weights):\n",
    "    pred = w_sum(input, weights)\n",
    "    return pred\n",
    "\n",
    "def ele_mul(number, vector):\n",
    "    output = [0,0,0]\n",
    "    assert(len(output) == len(vector))\n",
    "    \n",
    "    for i in range(len(vector)):\n",
    "        output[i] = number * vector[i]\n",
    "        return output\n",
    "    \n",
    "weights = [0.1, 0.2, -.1]\n",
    "\n",
    "toes = [8.5, 9.5, 9.9, 9.0]\n",
    "wlrec = [0.65, 0.8, 0.8, 0.9]\n",
    "nfans = [1.2, 1.3, 0.5, 1.0]\n",
    "\n",
    "win_or_lose_binary = [1, 1, 0, 1] #1-win 0-lose"
   ]
  },
  {
   "cell_type": "code",
   "execution_count": 6,
   "id": "c151ea40",
   "metadata": {},
   "outputs": [],
   "source": [
    "#2 ПРОГНОЗ + СРАВНЕНИЕ: получение прогноза, вычисление ошибки и разности\n",
    "true = win_or_lose_binary[0]\n",
    "input = [toes[0],wlrec[0],nfans[0]] #запись в первом сезоне\n",
    "\n",
    "pred = neural_network(input,weights)\n",
    "error = (pred - true)**2 #ошибка\n",
    "delta = pred - true #разность"
   ]
  },
  {
   "cell_type": "code",
   "execution_count": 7,
   "id": "072714f6",
   "metadata": {},
   "outputs": [],
   "source": [
    "#3 ОБУЧЕНИЕ: вычисление всех приращений weight_delta и добавление из в каждый вес\n",
    "weight_deltas = ele_mul(delta,input)"
   ]
  },
  {
   "cell_type": "code",
   "execution_count": 8,
   "id": "a98352f1",
   "metadata": {},
   "outputs": [
    {
     "name": "stdout",
     "output_type": "stream",
     "text": [
      "Weights:[0.1119, 0.2, -0.1]\n",
      "Weights Deltas:[-1.189999999999999, 0, 0]\n"
     ]
    }
   ],
   "source": [
    "#4 ОБУЧЕНИЕ: корректировка весов\n",
    "alpha = 0.01\n",
    "\n",
    "for i in range(len(weights)):\n",
    "    weights[i] -= alpha * weight_deltas[i]\n",
    "print('Weights:' + str(weights))\n",
    "print('Weights Deltas:' + str(weight_deltas))"
   ]
  }
 ],
 "metadata": {
  "kernelspec": {
   "display_name": "Python 3",
   "language": "python",
   "name": "python3"
  },
  "language_info": {
   "codemirror_mode": {
    "name": "ipython",
    "version": 3
   },
   "file_extension": ".py",
   "mimetype": "text/x-python",
   "name": "python",
   "nbconvert_exporter": "python",
   "pygments_lexer": "ipython3",
   "version": "3.8.8"
  }
 },
 "nbformat": 4,
 "nbformat_minor": 5
}

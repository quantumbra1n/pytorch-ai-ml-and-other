{
 "cells": [
  {
   "cell_type": "code",
   "execution_count": 1,
   "id": "72c81ac5",
   "metadata": {},
   "outputs": [],
   "source": [
    "#ПРОГНОЗИРОВАНИЕ С НЕСКОЛЬКИМИ ВХОДАМИ И ВЫХОДАМИ\n",
    "#Чистая сеть с несколькими входами и выходами\n",
    "\n",
    "        # игр % побед #болельщиков\n",
    "weights = [ [0.1, 0.1, -0.3], # травмы?\n",
    "            [0.1, 0.2, 0.0], # победа?\n",
    "            [0.0, 1.3, 0.1] ] # печаль?\n",
    "\n",
    "def neural_network(input, weights):\n",
    "    pred = vect_mat_mul(input, weights)\n",
    "    \n",
    "    return pred"
   ]
  },
  {
   "cell_type": "code",
   "execution_count": 2,
   "id": "fbf40b3e",
   "metadata": {},
   "outputs": [
    {
     "ename": "NameError",
     "evalue": "name 'vetc_mat_mul' is not defined",
     "output_type": "error",
     "traceback": [
      "\u001b[1;31m---------------------------------------------------------------------------\u001b[0m",
      "\u001b[1;31mNameError\u001b[0m                                 Traceback (most recent call last)",
      "\u001b[1;32m<ipython-input-2-d8cb30c41799>\u001b[0m in \u001b[0;36m<module>\u001b[1;34m\u001b[0m\n\u001b[0;32m      5\u001b[0m \u001b[1;33m\u001b[0m\u001b[0m\n\u001b[0;32m      6\u001b[0m \u001b[0minput\u001b[0m \u001b[1;33m=\u001b[0m \u001b[1;33m[\u001b[0m\u001b[0mtoes\u001b[0m\u001b[1;33m[\u001b[0m\u001b[1;36m0\u001b[0m\u001b[1;33m]\u001b[0m\u001b[1;33m,\u001b[0m\u001b[0mwlrec\u001b[0m\u001b[1;33m[\u001b[0m\u001b[1;36m0\u001b[0m\u001b[1;33m]\u001b[0m\u001b[1;33m,\u001b[0m\u001b[0mnfans\u001b[0m\u001b[1;33m[\u001b[0m\u001b[1;36m0\u001b[0m\u001b[1;33m]\u001b[0m\u001b[1;33m]\u001b[0m\u001b[1;33m\u001b[0m\u001b[1;33m\u001b[0m\u001b[0m\n\u001b[1;32m----> 7\u001b[1;33m \u001b[0mpred\u001b[0m \u001b[1;33m=\u001b[0m \u001b[0mneural_network\u001b[0m\u001b[1;33m(\u001b[0m\u001b[0minput\u001b[0m\u001b[1;33m,\u001b[0m \u001b[0mweights\u001b[0m\u001b[1;33m)\u001b[0m\u001b[1;33m\u001b[0m\u001b[1;33m\u001b[0m\u001b[0m\n\u001b[0m",
      "\u001b[1;32m<ipython-input-1-3598d14e5971>\u001b[0m in \u001b[0;36mneural_network\u001b[1;34m(input, weights)\u001b[0m\n\u001b[0;32m      8\u001b[0m \u001b[1;33m\u001b[0m\u001b[0m\n\u001b[0;32m      9\u001b[0m \u001b[1;32mdef\u001b[0m \u001b[0mneural_network\u001b[0m\u001b[1;33m(\u001b[0m\u001b[0minput\u001b[0m\u001b[1;33m,\u001b[0m \u001b[0mweights\u001b[0m\u001b[1;33m)\u001b[0m\u001b[1;33m:\u001b[0m\u001b[1;33m\u001b[0m\u001b[1;33m\u001b[0m\u001b[0m\n\u001b[1;32m---> 10\u001b[1;33m     \u001b[0mpred\u001b[0m \u001b[1;33m=\u001b[0m \u001b[0mvetc_mat_mul\u001b[0m\u001b[1;33m(\u001b[0m\u001b[0minput\u001b[0m\u001b[1;33m,\u001b[0m \u001b[0mweights\u001b[0m\u001b[1;33m)\u001b[0m\u001b[1;33m\u001b[0m\u001b[1;33m\u001b[0m\u001b[0m\n\u001b[0m\u001b[0;32m     11\u001b[0m \u001b[1;33m\u001b[0m\u001b[0m\n\u001b[0;32m     12\u001b[0m     \u001b[1;32mreturn\u001b[0m \u001b[0mpred\u001b[0m\u001b[1;33m\u001b[0m\u001b[1;33m\u001b[0m\u001b[0m\n",
      "\u001b[1;31mNameError\u001b[0m: name 'vetc_mat_mul' is not defined"
     ]
    }
   ],
   "source": [
    "#Передача одной точки данных\n",
    "toes = [8.5, 9.5, 9.9, 9.0]\n",
    "wlrec = [0.65, 0.8, 0.8, 0.9]\n",
    "nfans = [1.2, 1.3, 0.5, 1.0]\n",
    "\n",
    "input = [toes[0],wlrec[0],nfans[0]]\n",
    "pred = neural_network(input, weights)"
   ]
  },
  {
   "cell_type": "code",
   "execution_count": 3,
   "id": "5807e74e",
   "metadata": {},
   "outputs": [],
   "source": [
    "#Для каждого выхода вычисляется взвешенная сумма входов\n",
    "\n",
    "def w_sum(a,b):\n",
    "    assert(len(a)==len(b))\n",
    "    output = 0\n",
    "    for i in range(len(a)):\n",
    "        output += (a[i] * b[i])\n",
    "    return output\n",
    "\n",
    "def vect_mat_mul(vect,matrix):\n",
    "    assert(len(vect)==len(matrix))\n",
    "    output = [0,0,0]\n",
    "    \n",
    "    for i in range(len(vect)):\n",
    "        output[i] = w_sum(vect, matrix[i])\n",
    "    return output\n",
    "\n",
    "def neural_network(input, weights):\n",
    "    pred = vect_mat_mul(input, weights)\n",
    "    return pred\n",
    "\n",
    "    # игр     % побед       # болельщиков   \n",
    "#(8.5*0.1) + (0.65*0.1) + (1.2*-0.3) = 0.555 = прогноз вероятности травм \n",
    "#(8.5*0.1) + (0.65*0.2) + (1.2*0.0) = 0,98 = прогноз вероятности победы\n",
    "#(8.5*0.0) + (0.65*1.3) + (1.2*0.1) = 0.965 = прогноз вероятности огорчения"
   ]
  },
  {
   "cell_type": "code",
   "execution_count": null,
   "id": "d5b213e9",
   "metadata": {},
   "outputs": [],
   "source": [
    "#Получение прогноза\n",
    "toes = [8.5, 9.5, 9.9, 9.0]\n",
    "wlrec = [0.65, 0.8, 0.8, 0.9]\n",
    "nfans = [1.2, 1.3, 0.5, 1.0]\n",
    "\n",
    "input = [toes[0],wlrec[0],nfans[0]]\n",
    "pred = neural_network(input, weights)"
   ]
  }
 ],
 "metadata": {
  "kernelspec": {
   "display_name": "Python 3",
   "language": "python",
   "name": "python3"
  },
  "language_info": {
   "codemirror_mode": {
    "name": "ipython",
    "version": 3
   },
   "file_extension": ".py",
   "mimetype": "text/x-python",
   "name": "python",
   "nbconvert_exporter": "python",
   "pygments_lexer": "ipython3",
   "version": "3.8.8"
  }
 },
 "nbformat": 4,
 "nbformat_minor": 5
}

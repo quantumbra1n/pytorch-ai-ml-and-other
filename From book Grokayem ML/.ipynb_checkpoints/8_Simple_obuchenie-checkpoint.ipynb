{
 "cells": [
  {
   "cell_type": "code",
   "execution_count": 1,
   "id": "eeccb3ff",
   "metadata": {},
   "outputs": [],
   "source": [
    "# ОБУЧЕНИЕ МЕТОДОМ \"ХОЛОДНО/ГОРЯЧО\"\n",
    "\n",
    "#Данный метод обучения предполагает изменение весов в разных направлениях, чтобы определить, какое из них ведет к наибольшему \n",
    "#уменьшению ошибки, корректировку весов в этом направлении и повторение процедуры сначала, пока ошибка не достигнет 0"
   ]
  },
  {
   "cell_type": "code",
   "execution_count": 2,
   "id": "d8a00694",
   "metadata": {},
   "outputs": [],
   "source": [
    "#1 Чистая сеть\n",
    "\n",
    "weight = 0.1\n",
    "lr = 0.01\n",
    "\n",
    "def neural_network(input, weight):\n",
    "    prediction = input*weight\n",
    "    \n",
    "    return prediction"
   ]
  },
  {
   "cell_type": "code",
   "execution_count": 5,
   "id": "67a88074",
   "metadata": {},
   "outputs": [
    {
     "name": "stdout",
     "output_type": "stream",
     "text": [
      "0.022499999999999975\n"
     ]
    }
   ],
   "source": [
    "#2 ПРОГНОЗИРОВАНИЕ: получение прогноза и вычисление ошибки\n",
    "\n",
    "number_of_toes = [8.5]\n",
    "win_or_lose_binary = [1] # (победа!!!)\n",
    "\n",
    "input = number_of_toes[0]\n",
    "true = win_or_lose_binary[0]\n",
    "\n",
    "pred = neural_network(input,weight)\n",
    "\n",
    "error = (pred - true)**2 # делает чистую ошибку положительной, умножая на саму себя\n",
    "print(error) # Чистая ошибка"
   ]
  },
  {
   "cell_type": "code",
   "execution_count": 8,
   "id": "562aefc8",
   "metadata": {},
   "outputs": [],
   "source": [
    "#3 СРАВНЕНИЕ: получение прогноза с увеличенным значением веса и вычисление ошибки\n",
    "\n",
    "#Чтобы уменьшить ошибку, нужно изменить вес. Попробуем weigh+lr и weight-lr и посмотрим в каком случае ошибка будет самой низкой"
   ]
  },
  {
   "cell_type": "code",
   "execution_count": 9,
   "id": "20e6a9c7",
   "metadata": {},
   "outputs": [
    {
     "name": "stdout",
     "output_type": "stream",
     "text": [
      "0.004224999999999993\n"
     ]
    }
   ],
   "source": [
    "p_up = neural_network(input, weight+lr)\n",
    "\n",
    "e_up = (p_up - true)**2\n",
    "print(e_up)"
   ]
  },
  {
   "cell_type": "code",
   "execution_count": 10,
   "id": "88ac4982",
   "metadata": {},
   "outputs": [
    {
     "name": "stdout",
     "output_type": "stream",
     "text": [
      "0.05522499999999994\n"
     ]
    }
   ],
   "source": [
    "p_dn = neural_network(input, weight-lr)\n",
    "\n",
    "e_dn = (p_dn - true)**2\n",
    "print(e_dn)"
   ]
  },
  {
   "cell_type": "code",
   "execution_count": 14,
   "id": "57948c29",
   "metadata": {},
   "outputs": [],
   "source": [
    "#4 СРАВНЕНИЕ + ОБУЧЕНИЕ: сравнение ошибок и выбор нового значения веса\n",
    "\n",
    "if (error > e_dn or error > e_up): # В книге вместо or --> ||, субъективно логичнее поставить and вместо or\n",
    "    if (e_dn < e_up):\n",
    "        weight -= lr\n",
    "    else:\n",
    "        weight += lr"
   ]
  },
  {
   "cell_type": "code",
   "execution_count": null,
   "id": "d3848c9d",
   "metadata": {},
   "outputs": [],
   "source": []
  }
 ],
 "metadata": {
  "kernelspec": {
   "display_name": "Python 3",
   "language": "python",
   "name": "python3"
  },
  "language_info": {
   "codemirror_mode": {
    "name": "ipython",
    "version": 3
   },
   "file_extension": ".py",
   "mimetype": "text/x-python",
   "name": "python",
   "nbconvert_exporter": "python",
   "pygments_lexer": "ipython3",
   "version": "3.8.8"
  }
 },
 "nbformat": 4,
 "nbformat_minor": 5
}

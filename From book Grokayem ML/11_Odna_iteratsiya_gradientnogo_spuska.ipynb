{
 "cells": [
  {
   "cell_type": "code",
   "execution_count": 11,
   "id": "83e71d39",
   "metadata": {},
   "outputs": [],
   "source": [
    "#1 Чистая сеть\n",
    "\n",
    "weight = 0.01\n",
    "\n",
    "alpha = 0.01\n",
    "\n",
    "def neural_network(input, weight):\n",
    "    prediction = input * weight\n",
    "    return prediction"
   ]
  },
  {
   "cell_type": "code",
   "execution_count": 12,
   "id": "95767dff",
   "metadata": {},
   "outputs": [],
   "source": [
    "#2 ПРОГНОЗИРОВАНИЕ: получение прогноза и вычисление ошибки\n",
    "\n",
    "number_of_toes = [8.5]\n",
    "win_or_lose_binary = [1] #победа!\n",
    "\n",
    "input = number_of_toes[0]\n",
    "goal_pred = win_or_lose_binary[0]\n",
    "\n",
    "pred = neural_network(input, weight)\n",
    "\n",
    "error = (pred - goal_pred)**2 #среднеквадратичная ошибка"
   ]
  },
  {
   "cell_type": "code",
   "execution_count": 13,
   "id": "e6060f9b",
   "metadata": {},
   "outputs": [],
   "source": [
    "#3 СРАВНЕНИЕ: вычисление разности на выходе между прогнозом и истиной\n",
    "\n",
    "delta = pred - goal_pred #разность на выходе"
   ]
  },
  {
   "cell_type": "code",
   "execution_count": 14,
   "id": "499b8d19",
   "metadata": {},
   "outputs": [],
   "source": [
    "#4 ОБУЧЕНИЕ: вычисление разности весов\n",
    "\n",
    "weight_delta = input * delta"
   ]
  },
  {
   "cell_type": "code",
   "execution_count": 15,
   "id": "dfd8c9ea",
   "metadata": {},
   "outputs": [],
   "source": [
    "#5 ОБУЧЕНИЕ: корректировка веса\n",
    "\n",
    "weight -= weight_delta * alpha"
   ]
  }
 ],
 "metadata": {
  "kernelspec": {
   "display_name": "Python 3",
   "language": "python",
   "name": "python3"
  },
  "language_info": {
   "codemirror_mode": {
    "name": "ipython",
    "version": 3
   },
   "file_extension": ".py",
   "mimetype": "text/x-python",
   "name": "python",
   "nbconvert_exporter": "python",
   "pygments_lexer": "ipython3",
   "version": "3.8.8"
  }
 },
 "nbformat": 4,
 "nbformat_minor": 5
}

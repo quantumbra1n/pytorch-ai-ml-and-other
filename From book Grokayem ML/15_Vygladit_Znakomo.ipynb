{
 "cells": [
  {
   "cell_type": "code",
   "execution_count": 3,
   "id": "59ccde26",
   "metadata": {},
   "outputs": [
    {
     "name": "stdout",
     "output_type": "stream",
     "text": [
      "Error:0.6400000000000001 Prediction: 0.0\n",
      "Error:0.02822400000000005 Prediction: 0.9680000000000002\n",
      "Error:0.0012446784000000064 Prediction: 0.76472\n",
      "Error:5.4890317439999896e-05 Prediction: 0.8074088\n"
     ]
    }
   ],
   "source": [
    "weight = 0.0\n",
    "goal_pred = 0.8\n",
    "input = 1.1\n",
    "\n",
    "for i in range(4):\n",
    "    pred = input * weight\n",
    "    error = (pred - goal_pred)**2\n",
    "    \n",
    "    delta = pred - goal_pred\n",
    "    weight_delta = delta * input #Производная (как быстро изменяется ошибка при изменении веса)\n",
    "    \n",
    "    weight = weight - weight_delta\n",
    "    print('Error:' + str(error) + ' Prediction: ' + str(pred))"
   ]
  }
 ],
 "metadata": {
  "kernelspec": {
   "display_name": "Python 3",
   "language": "python",
   "name": "python3"
  },
  "language_info": {
   "codemirror_mode": {
    "name": "ipython",
    "version": 3
   },
   "file_extension": ".py",
   "mimetype": "text/x-python",
   "name": "python",
   "nbconvert_exporter": "python",
   "pygments_lexer": "ipython3",
   "version": "3.8.8"
  }
 },
 "nbformat": 4,
 "nbformat_minor": 5
}

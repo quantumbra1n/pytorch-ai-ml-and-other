{
 "cells": [
  {
   "cell_type": "code",
   "execution_count": 2,
   "id": "7ddb0259",
   "metadata": {},
   "outputs": [
    {
     "name": "stdout",
     "output_type": "stream",
     "text": [
      "Error:0.03999999999999998 Prediction: 1.0\n",
      "Error:0.3599999999999998 Prediction: 0.20000000000000018\n",
      "Error:3.2399999999999984 Prediction: 2.5999999999999996\n",
      "Error:29.159999999999986 Prediction: -4.599999999999999\n"
     ]
    }
   ],
   "source": [
    "weight = 0.5\n",
    "goal_pred = 0.8\n",
    "input = 2\n",
    "\n",
    "for i in range(4):\n",
    "    pred = input * weight\n",
    "    error = (pred - goal_pred)**2\n",
    "    \n",
    "    delta = pred - goal_pred\n",
    "    weight_delta = delta * input #Производная (как быстро изменяется ошибка при изменении веса)\n",
    "    \n",
    "    weight = weight - weight_delta\n",
    "    print('Error:' + str(error) + ' Prediction: ' + str(pred))"
   ]
  },
  {
   "cell_type": "code",
   "execution_count": null,
   "id": "967bb222",
   "metadata": {},
   "outputs": [],
   "source": []
  }
 ],
 "metadata": {
  "kernelspec": {
   "display_name": "Python 3",
   "language": "python",
   "name": "python3"
  },
  "language_info": {
   "codemirror_mode": {
    "name": "ipython",
    "version": 3
   },
   "file_extension": ".py",
   "mimetype": "text/x-python",
   "name": "python",
   "nbconvert_exporter": "python",
   "pygments_lexer": "ipython3",
   "version": "3.8.8"
  }
 },
 "nbformat": 4,
 "nbformat_minor": 5
}

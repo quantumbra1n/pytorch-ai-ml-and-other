{
 "cells": [
  {
   "cell_type": "code",
   "execution_count": 4,
   "id": "a3431333",
   "metadata": {},
   "outputs": [],
   "source": [
    "#1 Чистая сеть\n",
    "weight = 0.1\n",
    "def neural_network(input, weight):\n",
    "    prediction = input * weight\n",
    "    return prediction"
   ]
  },
  {
   "cell_type": "code",
   "execution_count": 6,
   "id": "35c872d1",
   "metadata": {},
   "outputs": [
    {
     "name": "stdout",
     "output_type": "stream",
     "text": [
      "<function neural_network at 0x000001CB701EED30>\n"
     ]
    }
   ],
   "source": [
    "#2 Передача одной точки данных\n",
    "number_of_toes = [8.5, 9.5, 10, 9]\n",
    "input = number_of_toes[0]\n",
    "\n",
    "pred = neural_network\n",
    "print(pred)"
   ]
  },
  {
   "cell_type": "code",
   "execution_count": 7,
   "id": "dde97ea7",
   "metadata": {},
   "outputs": [],
   "source": [
    "#3 Умножение входного значения на весовой коэффициент\n",
    "def neural_network(input, weight):\n",
    "    prediction = input*weight\n",
    "    return prediction"
   ]
  },
  {
   "cell_type": "code",
   "execution_count": 8,
   "id": "7ed36d74",
   "metadata": {},
   "outputs": [],
   "source": [
    "#4 Получение прогноза\n",
    "number_of_toes = [8.5, 9.5, 10, 9]\n",
    "input = number_of_toes[0]\n",
    "pred = neural_network"
   ]
  }
 ],
 "metadata": {
  "kernelspec": {
   "display_name": "Python 3",
   "language": "python",
   "name": "python3"
  },
  "language_info": {
   "codemirror_mode": {
    "name": "ipython",
    "version": 3
   },
   "file_extension": ".py",
   "mimetype": "text/x-python",
   "name": "python",
   "nbconvert_exporter": "python",
   "pygments_lexer": "ipython3",
   "version": "3.8.8"
  }
 },
 "nbformat": 4,
 "nbformat_minor": 5
}

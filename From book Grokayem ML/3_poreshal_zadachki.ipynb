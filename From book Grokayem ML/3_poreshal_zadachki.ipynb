{
 "cells": [
  {
   "cell_type": "code",
   "execution_count": 3,
   "id": "b9cf02da",
   "metadata": {},
   "outputs": [],
   "source": [
    "#Задача векторная математика\n",
    "vec_a=[0.1, 0.2, 0.3]\n",
    "vec_b=[0.3, 0.2, 0.1]"
   ]
  },
  {
   "cell_type": "code",
   "execution_count": 29,
   "id": "09459798",
   "metadata": {},
   "outputs": [
    {
     "name": "stdout",
     "output_type": "stream",
     "text": [
      "0.03\n",
      "0.04000000000000001\n",
      "0.03\n"
     ]
    }
   ],
   "source": [
    "def elementwise_multiplication(vec_a,vec_b):\n",
    "    assert(len(vec_a)==len(vec_b))\n",
    "    for i in range(len(vec_a)):\n",
    "        r = vec_a[i]*vec_b[i]\n",
    "        print(r)\n",
    "mul = elementwise_multiplication(vec_a, vec_b)"
   ]
  },
  {
   "cell_type": "code",
   "execution_count": 28,
   "id": "37f09ae4",
   "metadata": {},
   "outputs": [
    {
     "name": "stdout",
     "output_type": "stream",
     "text": [
      "0.4\n",
      "0.4\n",
      "0.4\n"
     ]
    }
   ],
   "source": [
    "def elementwise_addiction(vec_a, vec_b):\n",
    "    assert(len(vec_a)==len(vec_b))\n",
    "    for i in range(len(vec_a)):\n",
    "        r = vec_a[i] + vec_b[i]\n",
    "        print(r)\n",
    "add = elementwise_addiction(vec_a, vec_b)"
   ]
  },
  {
   "cell_type": "code",
   "execution_count": 22,
   "id": "62ea3041",
   "metadata": {},
   "outputs": [],
   "source": [
    "def vector_sum(vec_a):\n",
    "    su = 0\n",
    "    for i in range(len(vec_a)):\n",
    "        su += vec_a[i]\n",
    "    return su\n",
    "vec_sum = vector_sum(vec_a)"
   ]
  },
  {
   "cell_type": "code",
   "execution_count": 25,
   "id": "529a3cec",
   "metadata": {},
   "outputs": [
    {
     "name": "stdout",
     "output_type": "stream",
     "text": [
      "0.20000000000000004\n"
     ]
    }
   ],
   "source": [
    "def vector_average(vec_a):\n",
    "    su = 0\n",
    "    for i in range(len(vec_a)):\n",
    "        su += vec_a[i]\n",
    "    print(su/len(vec_a))\n",
    "avg = vector_average(vec_a)"
   ]
  },
  {
   "cell_type": "code",
   "execution_count": 38,
   "id": "2c21253a",
   "metadata": {},
   "outputs": [],
   "source": [
    "def skalar(a,b):\n",
    "    assert(len(a)==len(b))\n",
    "    su = 0\n",
    "    for i in range(len(a)):\n",
    "        su += (a[i]*b[i])\n",
    "    return su\n",
    "#Результаты двух функций присвоить a и b и вычислить скалярное произведение"
   ]
  },
  {
   "cell_type": "code",
   "execution_count": null,
   "id": "8ce6ff50",
   "metadata": {},
   "outputs": [],
   "source": []
  }
 ],
 "metadata": {
  "kernelspec": {
   "display_name": "Python 3",
   "language": "python",
   "name": "python3"
  },
  "language_info": {
   "codemirror_mode": {
    "name": "ipython",
    "version": 3
   },
   "file_extension": ".py",
   "mimetype": "text/x-python",
   "name": "python",
   "nbconvert_exporter": "python",
   "pygments_lexer": "ipython3",
   "version": "3.8.8"
  }
 },
 "nbformat": 4,
 "nbformat_minor": 5
}

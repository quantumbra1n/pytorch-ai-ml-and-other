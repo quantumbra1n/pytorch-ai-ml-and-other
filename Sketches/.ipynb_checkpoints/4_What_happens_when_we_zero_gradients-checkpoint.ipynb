{
 "cells": [
  {
   "cell_type": "code",
   "execution_count": 1,
   "id": "817ae2d6",
   "metadata": {},
   "outputs": [],
   "source": [
    "import torch"
   ]
  },
  {
   "cell_type": "code",
   "execution_count": 2,
   "id": "1a06d951",
   "metadata": {},
   "outputs": [],
   "source": [
    "x = torch.randn([1, 100, 3])\n",
    "target = torch.randn([1,100,64])"
   ]
  },
  {
   "cell_type": "code",
   "execution_count": 14,
   "id": "c46e4349",
   "metadata": {},
   "outputs": [],
   "source": [
    "class Net(torch.nn.Module):\n",
    "    def __init__(self):\n",
    "        super(Net, self).__init__()\n",
    "        self.fc1 = torch.nn.Linear(3, 64) # wx+b, где w - вес, b - bias\n",
    "        \n",
    "    def forward(self, x): # __call__, который вызвает метод foward\n",
    "        x = self.fc1(x)\n",
    "        return x"
   ]
  },
  {
   "cell_type": "code",
   "execution_count": 6,
   "id": "fc5bd8ea",
   "metadata": {},
   "outputs": [],
   "source": [
    "model = Net()"
   ]
  },
  {
   "cell_type": "code",
   "execution_count": 13,
   "id": "3ab13bef",
   "metadata": {},
   "outputs": [
    {
     "data": {
      "text/plain": [
       "torch.Size([1, 100, 64])"
      ]
     },
     "execution_count": 13,
     "metadata": {},
     "output_type": "execute_result"
    }
   ],
   "source": [
    "model(x).shape"
   ]
  },
  {
   "cell_type": "code",
   "execution_count": 8,
   "id": "9844b1cc",
   "metadata": {},
   "outputs": [],
   "source": [
    "criterion = torch.nn.MSELoss()"
   ]
  },
  {
   "cell_type": "code",
   "execution_count": 9,
   "id": "e772b155",
   "metadata": {},
   "outputs": [],
   "source": [
    "optimizer = torch.optim.SGD(model.parameters(), lr=0.0003)"
   ]
  },
  {
   "cell_type": "code",
   "execution_count": 16,
   "id": "557246d6",
   "metadata": {},
   "outputs": [
    {
     "name": "stdout",
     "output_type": "stream",
     "text": [
      "Epoch:  0 Loss:  1.3627735376358032\n",
      "Epoch:  1 Loss:  1.3627662658691406\n",
      "Epoch:  2 Loss:  1.3627591133117676\n",
      "Epoch:  3 Loss:  1.3627517223358154\n",
      "Epoch:  4 Loss:  1.3627445697784424\n",
      "Epoch:  5 Loss:  1.3627374172210693\n",
      "Epoch:  6 Loss:  1.3627302646636963\n",
      "Epoch:  7 Loss:  1.3627231121063232\n",
      "Epoch:  8 Loss:  1.362715721130371\n",
      "Epoch:  9 Loss:  1.362708568572998\n"
     ]
    }
   ],
   "source": [
    "for epoch in range(10):\n",
    "    output = model(x)\n",
    "    loss = criterion(output, target)\n",
    "    print('Epoch: ', epoch, 'Loss: ', loss.item())\n",
    "    optimizer.zero_grad() # w.grad и b.grad - обнуляются\n",
    "    loss.backward() # обновляет w.grad и b.grad, испоьзуя частные деривативы\n",
    "    optimizer.step() # w += -lr * w.grad"
   ]
  },
  {
   "cell_type": "code",
   "execution_count": 17,
   "id": "8fea9336",
   "metadata": {},
   "outputs": [
    {
     "data": {
      "text/plain": [
       "[Parameter containing:\n",
       " tensor([[ 0.5276, -0.4379, -0.5316],\n",
       "         [ 0.2639,  0.5641,  0.0724],\n",
       "         [ 0.4078, -0.1312, -0.4692],\n",
       "         [ 0.4538,  0.0871,  0.0301],\n",
       "         [ 0.2413, -0.2876, -0.0075],\n",
       "         [-0.3003, -0.4503, -0.3342],\n",
       "         [-0.3985, -0.3301, -0.3922],\n",
       "         [-0.0619, -0.1367, -0.2240],\n",
       "         [ 0.0600, -0.1214,  0.5662],\n",
       "         [ 0.3781, -0.3041, -0.2777],\n",
       "         [-0.5739, -0.1146,  0.2059],\n",
       "         [ 0.0180, -0.2206,  0.0088],\n",
       "         [-0.2443,  0.5117, -0.5104],\n",
       "         [ 0.4859,  0.2173, -0.3938],\n",
       "         [ 0.1900,  0.1087, -0.0821],\n",
       "         [-0.2158,  0.5568,  0.5321],\n",
       "         [-0.5027, -0.0462, -0.0248],\n",
       "         [-0.4070, -0.3051, -0.0948],\n",
       "         [ 0.0669,  0.2425, -0.0786],\n",
       "         [-0.3602, -0.0285,  0.4781],\n",
       "         [-0.2918, -0.0262, -0.1202],\n",
       "         [ 0.5656, -0.4588, -0.1151],\n",
       "         [-0.1449,  0.0695,  0.2818],\n",
       "         [-0.5051, -0.0140,  0.3066],\n",
       "         [-0.1027,  0.2554, -0.1745],\n",
       "         [-0.4791, -0.3342,  0.1622],\n",
       "         [ 0.1876, -0.1519, -0.3090],\n",
       "         [-0.4510, -0.4190, -0.0814],\n",
       "         [ 0.5133, -0.1625, -0.1471],\n",
       "         [ 0.4026, -0.5095, -0.2279],\n",
       "         [-0.2669,  0.5666, -0.1389],\n",
       "         [-0.3262, -0.1242, -0.4276],\n",
       "         [ 0.4933, -0.2578, -0.2398],\n",
       "         [-0.0239, -0.5584,  0.4194],\n",
       "         [-0.2175, -0.3813,  0.2956],\n",
       "         [ 0.3484, -0.3279, -0.3556],\n",
       "         [-0.2080, -0.0223,  0.2411],\n",
       "         [ 0.5542,  0.4548,  0.0951],\n",
       "         [ 0.3776,  0.3093,  0.4418],\n",
       "         [-0.2157,  0.4468, -0.4910],\n",
       "         [-0.0680,  0.0770, -0.3633],\n",
       "         [ 0.3789,  0.0714, -0.3569],\n",
       "         [ 0.0370,  0.1980,  0.3205],\n",
       "         [ 0.2822, -0.2801, -0.2325],\n",
       "         [-0.3631, -0.0588, -0.0920],\n",
       "         [-0.3385,  0.3698,  0.1392],\n",
       "         [ 0.3242, -0.3271,  0.3723],\n",
       "         [ 0.2135,  0.4430, -0.1750],\n",
       "         [ 0.1113, -0.1636, -0.1714],\n",
       "         [ 0.5080, -0.1993, -0.0572],\n",
       "         [ 0.1342,  0.2304,  0.4197],\n",
       "         [-0.3152, -0.3328,  0.2643],\n",
       "         [ 0.4216, -0.0467,  0.4137],\n",
       "         [-0.2887,  0.1228,  0.2571],\n",
       "         [-0.0133,  0.5621, -0.3707],\n",
       "         [ 0.1839, -0.2352,  0.3095],\n",
       "         [-0.0218,  0.2749,  0.0657],\n",
       "         [-0.4049, -0.1818,  0.1082],\n",
       "         [ 0.4419,  0.3848,  0.1139],\n",
       "         [ 0.4294,  0.2298,  0.1959],\n",
       "         [-0.1831,  0.0436, -0.4718],\n",
       "         [-0.4877, -0.2097,  0.2013],\n",
       "         [ 0.1731, -0.2370, -0.3040],\n",
       "         [-0.3550, -0.2110,  0.0839]], requires_grad=True),\n",
       " Parameter containing:\n",
       " tensor([ 0.1863, -0.5268,  0.2933, -0.5224, -0.2675, -0.3473, -0.2577,  0.3718,\n",
       "         -0.2556, -0.5214, -0.5767, -0.4899, -0.5391,  0.2939, -0.0936, -0.3526,\n",
       "         -0.3915, -0.3967, -0.0285,  0.0556,  0.1289,  0.5288,  0.2965,  0.2175,\n",
       "          0.1436, -0.0737, -0.0092, -0.3995, -0.5187,  0.4245, -0.2402,  0.0975,\n",
       "         -0.3632,  0.1377,  0.4050, -0.2070,  0.4324, -0.1590, -0.3989, -0.0263,\n",
       "         -0.1688,  0.1138,  0.2537,  0.5359,  0.0828, -0.4556,  0.5102,  0.1582,\n",
       "          0.1641, -0.5273, -0.3220, -0.4314,  0.2877,  0.2881,  0.4614, -0.5190,\n",
       "         -0.0284,  0.4429, -0.4955, -0.2146,  0.4322,  0.1582,  0.4279,  0.3750],\n",
       "        requires_grad=True)]"
      ]
     },
     "execution_count": 17,
     "metadata": {},
     "output_type": "execute_result"
    }
   ],
   "source": [
    "list(model.parameters())"
   ]
  },
  {
   "cell_type": "code",
   "execution_count": null,
   "id": "24fc15ae",
   "metadata": {},
   "outputs": [],
   "source": []
  }
 ],
 "metadata": {
  "kernelspec": {
   "display_name": "Python 3 (ipykernel)",
   "language": "python",
   "name": "python3"
  },
  "language_info": {
   "codemirror_mode": {
    "name": "ipython",
    "version": 3
   },
   "file_extension": ".py",
   "mimetype": "text/x-python",
   "name": "python",
   "nbconvert_exporter": "python",
   "pygments_lexer": "ipython3",
   "version": "3.8.8"
  }
 },
 "nbformat": 4,
 "nbformat_minor": 5
}
